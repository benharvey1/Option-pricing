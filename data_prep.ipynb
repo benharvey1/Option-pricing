{
 "cells": [
  {
   "cell_type": "code",
   "execution_count": 1,
   "metadata": {},
   "outputs": [
    {
     "name": "stdout",
     "output_type": "stream",
     "text": [
      "Estimate for risk free interest rate, r: 0.049449999882624704\n",
      "Estimate for realised volatility: 0.2746527629416358\n",
      "Current Apple stock price:226.8000030517578\n",
      "----------------------------------------------------------------------------------------------------\n",
      "  option_type  expiry_time  strike_price  market_price\n",
      "0           c     0.054757         190.0         37.65\n",
      "1           c     0.054757         197.5         30.45\n",
      "2           c     0.054757         200.0         28.00\n",
      "3           c     0.054757         202.5         25.30\n",
      "4           c     0.054757         210.0         17.55\n"
     ]
    }
   ],
   "source": [
    "import yfinance as yf\n",
    "import pandas as pd\n",
    "import Black_Scholes\n",
    "import numpy as np\n",
    "from datetime import datetime\n",
    "\n",
    "# Estimate risk free interest using US Treasurey bill yields\n",
    "t_bill = yf.Ticker('^IRX')\n",
    "t_bill_data = t_bill.history(period='3mo')\n",
    "r = np.mean(t_bill_data['Close'])/100\n",
    "print(f'Estimate for risk free interest rate, r: {r}')\n",
    "\n",
    "# Estimate realised volatility of Apple stocks\n",
    "aapl = yf.Ticker('AAPL')\n",
    "aapl_data = aapl.history(period='3mo')['Close']\n",
    "realised_vol = Black_Scholes.realised_volatility(aapl_data.values, 1/365.25)\n",
    "S = aapl_data.values[-1]\n",
    "print(f'Estimate for realised volatility: {realised_vol}')\n",
    "print(f'Current Apple stock price:{S}')\n",
    "\n",
    "# Gather options data\n",
    "\n",
    "# Times to expiry  \n",
    "expirations = aapl.options\n",
    "expiry_times = []\n",
    "for date in expirations:\n",
    "    tau = ((pd.to_datetime(date) - datetime.now()).days)/365.25\n",
    "    if 0.05 < tau < 0.5:\n",
    "        expiry_times.append(tau) \n",
    "\n",
    "# Strike Prices and Market option price\n",
    "options_data = []\n",
    "for i in range(len(expiry_times)):\n",
    "    call_options = aapl.option_chain(expirations[i]).calls\n",
    "    put_options = aapl.option_chain(expirations[i]).puts\n",
    "    \n",
    "    for j in range(len(call_options)):\n",
    "        market_price = (call_options.iloc[j]['bid'] + call_options.iloc[j]['ask']) / 2\n",
    "        if abs(S - call_options.iloc[j]['strike'])/S < 0.2 and market_price > (S - call_options.iloc[j]['strike']):\n",
    "            option = {}\n",
    "            option['option_type'] = 'c'\n",
    "            option['expiry_time'] = expiry_times[i]\n",
    "            option['strike_price'] = call_options.iloc[j]['strike']\n",
    "            option['market_price'] = call_options.iloc[j]['ask']\n",
    "            options_data.append(option)\n",
    "\n",
    "    for j in range(len(put_options)):\n",
    "        market_price = (put_options.iloc[j]['bid'] + put_options.iloc[j]['ask']) / 2\n",
    "        if abs(S - put_options.iloc[j]['strike'])/S < 0.2 and market_price > (put_options.iloc[j]['strike'] - S):\n",
    "            option = {}\n",
    "            option['option_type'] = 'p'\n",
    "            option['expiry_time'] = expiry_times[i]\n",
    "            option['strike_price'] = put_options.iloc[j]['strike']\n",
    "            option['market_price'] = market_price \n",
    "            options_data.append(option)\n",
    "\n",
    "options_df = pd.DataFrame(options_data)\n",
    "options_df.to_csv('options_data.csv', index=False)\n",
    "\n",
    "print('-'*100)\n",
    "print(options_df.head())\n"
   ]
  }
 ],
 "metadata": {
  "kernelspec": {
   "display_name": "Python 3",
   "language": "python",
   "name": "python3"
  },
  "language_info": {
   "codemirror_mode": {
    "name": "ipython",
    "version": 3
   },
   "file_extension": ".py",
   "mimetype": "text/x-python",
   "name": "python",
   "nbconvert_exporter": "python",
   "pygments_lexer": "ipython3",
   "version": "3.12.2"
  }
 },
 "nbformat": 4,
 "nbformat_minor": 2
}
